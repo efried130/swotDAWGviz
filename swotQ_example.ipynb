{
 "cells": [
  {
   "cell_type": "markdown",
   "id": "e7444b65-f6d5-44a7-9d60-74087eb02b90",
   "metadata": {},
   "source": [
    "# Plot maps of SWOT data, algorithm runs, and mean flow post integrator\n",
    "\n",
    "by Mike Durand. Confluence summit at U Mass, April 2024\n",
    "\n",
    "Edited by Elisa (Ellie) Friedmann, Jonathan Flores, Craig Brinkerhoff April 2024"
   ]
  },
  {
   "cell_type": "markdown",
   "id": "cae76e7a-df1d-49e5-b206-c467074c8f2e",
   "metadata": {},
   "source": [
    "## Set up Libraries and Directories"
   ]
  },
  {
   "cell_type": "code",
   "execution_count": null,
   "id": "95280087-59b6-42f0-b6c2-a90ae08e5ad8",
   "metadata": {},
   "outputs": [],
   "source": [
    "import os,sys\n",
    "import netCDF4\n",
    "from pathlib import Path\n",
    "import numpy as np\n",
    "import json\n",
    "import matplotlib.pyplot as plt\n",
    "import pandas as pd\n",
    "from netCDF4 import chartostring\n",
    "import geopandas as gpd\n"
   ]
  },
  {
   "cell_type": "code",
   "execution_count": null,
   "id": "3dca9556-7b74-4ef2-b676-592cb2d1c4a4",
   "metadata": {},
   "outputs": [],
   "source": [
    "# set up SWOT DAWG viz\n",
    "sys.path.append('/nas/cee-water/cjgleason/ellie/SWOT/')\n",
    "from swotdawgviz import io as sdvio\n",
    "from swotdawgviz import maps as sdvm"
   ]
  },
  {
   "cell_type": "code",
   "execution_count": null,
   "id": "2bbf03c4-3c58-4109-b272-bb20ebcb3cb2",
   "metadata": {},
   "outputs": [],
   "source": [
    "os.getcwd()"
   ]
  },
  {
   "cell_type": "code",
   "execution_count": null,
   "id": "0b24145a-3e1a-4d7a-947f-10c581ee5564",
   "metadata": {},
   "outputs": [],
   "source": [
    "# set up directories\n",
    "DataDir=Path('.')"
   ]
  },
  {
   "cell_type": "markdown",
   "id": "c8e5351e-634e-4bff-aab2-7cbf6c1f52d0",
   "metadata": {},
   "source": [
    "## Open files"
   ]
  },
  {
   "cell_type": "code",
   "execution_count": null,
   "id": "b2acb677-d869-46c4-a057-c4e3b5262fb0",
   "metadata": {},
   "outputs": [],
   "source": [
    "results = netCDF4.Dataset(\"/nas/cee-water/cjgleason/SWOT_Q_UMASS/na_sword_v16_SOS_results_EOD_day1.nc\", format=\"NETCDF4\")\n",
    "\n",
    "#print(\"Results Group\")\n",
    "#print(results, \"\\n\")\n"
   ]
  },
  {
   "cell_type": "markdown",
   "id": "fd89be61-85f7-4093-91e6-a42499120380",
   "metadata": {},
   "source": [
    "## Parse Ohio basin in SoS\n",
    "\n",
    "The Ohio is L4=7426"
   ]
  },
  {
   "cell_type": "code",
   "execution_count": null,
   "id": "cdc829e3-896b-4260-aeff-ef1c45142054",
   "metadata": {},
   "outputs": [],
   "source": [
    "reaches = results.groups['reaches']\n",
    "print(\"Reaches Group\")\n",
    "print(reaches, \"\\n\")\n",
    "\n",
    "reachids=reaches['reach_id'][:]\n",
    "\n",
    "reachid_strs=[]\n",
    "\n",
    "reachids_oh=[]\n",
    "reachids_int_oh=[]\n",
    "\n",
    "for reachid in reachids:\n",
    "    if str(reachid)[0:4]=='7426':\n",
    "        reachids_oh.append(str(reachid))\n",
    "        reachids_int_oh.append(int(reachid))"
   ]
  },
  {
   "cell_type": "code",
   "execution_count": null,
   "id": "a8b68776-1bd1-4712-aac9-444e42ddee39",
   "metadata": {},
   "outputs": [],
   "source": [
    "reachids"
   ]
  },
  {
   "cell_type": "markdown",
   "id": "1374f487-0e81-44f8-a955-5142a765a2d5",
   "metadata": {},
   "source": [
    "## Explore integrator data stored in SoS"
   ]
  },
  {
   "cell_type": "code",
   "execution_count": null,
   "id": "78154cf9-a5aa-45a6-b418-44b9932763e2",
   "metadata": {},
   "outputs": [],
   "source": [
    "moi = results.groups['moi']\n",
    "print(\"MOI Group\")\n",
    "print(moi, \"\\n\")"
   ]
  },
  {
   "cell_type": "code",
   "execution_count": null,
   "id": "cacb60e7-914a-44fb-9e48-603a14c652f6",
   "metadata": {},
   "outputs": [],
   "source": [
    "print(\"HiVDI in MOI\")\n",
    "print(moi['hivdi'], \"\\n\")"
   ]
  },
  {
   "cell_type": "code",
   "execution_count": null,
   "id": "5748b628-0b23-4911-83a5-9884cef01de2",
   "metadata": {},
   "outputs": [],
   "source": [
    "print(\"Basin scale discharge from HiVDI in MOI\")\n",
    "print(moi['hivdi']['qbar_basinScale'], \"\\n\")"
   ]
  },
  {
   "cell_type": "code",
   "execution_count": null,
   "id": "c905f4ff-9865-42dd-9a5a-09f8209d7566",
   "metadata": {},
   "outputs": [],
   "source": [
    "moi['hivdi']['qbar_basinScale'][14954].data"
   ]
  },
  {
   "cell_type": "markdown",
   "id": "6843c8c3-6a7c-42b5-97f8-1b36dd6f7ce3",
   "metadata": {},
   "source": [
    "## Initialize SWOT DAWG Viz map"
   ]
  },
  {
   "cell_type": "code",
   "execution_count": null,
   "id": "1888acf9-914e-4b11-84f3-823059843b60",
   "metadata": {},
   "outputs": [],
   "source": [
    "import geopandas as gpd\n",
    "\n",
    "rch = gpd.read_file(\"/nas/cee-water/cjgleason/miked/umass_workshop/sword_shp/na_sword_reaches_hb74_v16.shp\")\n",
    "rch.plot()\n",
    "print(len(rch))"
   ]
  },
  {
   "cell_type": "code",
   "execution_count": null,
   "id": "6db23f1a-6546-42fa-95be-fb235d3f2f7b",
   "metadata": {},
   "outputs": [],
   "source": [
    "rch[rch.reach_id.isin(reachids.data)].plot()"
   ]
  },
  {
   "cell_type": "code",
   "execution_count": null,
   "id": "dbbdf456-fe48-4a86-a806-95b6c58a8318",
   "metadata": {},
   "outputs": [],
   "source": [
    "# Open the priors file:\n",
    "priors = netCDF4.Dataset(\"/nas/cee-water/cjgleason/SWOT_Q_UMASS/na_sword_v16_SOS_priors.nc\", format=\"NETCDF4\")\n",
    "\n",
    "gauge_reach = priors[\"USGS\"][\"USGS_reach_id\"][:]\n",
    "print(\"Gauge reach identifiers:\")\n",
    "print(gauge_reach)\n",
    "\n",
    "reach_overlap = np.intersect1d(gauge_reach, reachids.data)\n",
    "print(\"Overlapping reaches:\")\n",
    "print(reach_overlap)\n",
    "reach_overlap"
   ]
  },
  {
   "cell_type": "code",
   "execution_count": null,
   "id": "ac26f2f2-57a0-4127-a477-f2ac3dacaab3",
   "metadata": {},
   "outputs": [],
   "source": [
    "len(reach_overlap)"
   ]
  },
  {
   "cell_type": "code",
   "execution_count": null,
   "id": "52403e68-5d21-49d5-b930-1f4ee5cace41",
   "metadata": {},
   "outputs": [],
   "source": [
    "gauged_reaches = rch[rch.reach_id.isin(reach_overlap)]\n",
    "print(len(gauged_reaches))\n",
    "gauged_reaches.plot()"
   ]
  },
  {
   "cell_type": "code",
   "execution_count": null,
   "id": "d525de79-6e91-4b1b-931a-d5ef49202a55",
   "metadata": {},
   "outputs": [],
   "source": [
    "gauged_reaches\n",
    "\n",
    "results#[\"hivdi\"][\"Q\"]"
   ]
  },
  {
   "cell_type": "code",
   "execution_count": null,
   "id": "2752d247-43fe-45c2-8c66-af3e35a97b51",
   "metadata": {},
   "outputs": [],
   "source": [
    "# create swotdawgviz map with just the reaches in RL mapped\n",
    "sword_hb_reaches = sdvio.SwordShapefile(\"/nas/cee-water/cjgleason/miked/umass_workshop/sword_shp/na_sword_reaches_hb74_v16.shp\",reachids_int_oh)\n",
    "rmap = sdvm.ReachesMap(sword_hb_reaches.dataset)\n",
    "ridmap = rmap.get_centerlines_map()\n",
    "ridmap"
   ]
  },
  {
   "cell_type": "markdown",
   "id": "6ff73e78-4e84-4a99-b8c0-0078aeadb081",
   "metadata": {},
   "source": [
    "## Map mean flow for one algorithm"
   ]
  },
  {
   "cell_type": "code",
   "execution_count": null,
   "id": "12689055-ead3-48ff-adde-7f4348781337",
   "metadata": {},
   "outputs": [],
   "source": [
    "#hidvi\n",
    "Qbar_hi=dict()\n",
    "for reachid in reachids_oh:    \n",
    "    idx = np.where(results['reaches']['reach_id'][:] == np.int64(reachid) )\n",
    "    data = np.ma.getdata(results[\"hivdi\"][\"Q\"][idx])[0]\n",
    "    if data.max() > 0:\n",
    "        Qbar_hi[reachid] = 1\n",
    "    else:\n",
    "        Qbar_hi[reachid] = 0\n",
    "        \n",
    "#momma\n",
    "Qbar_momma=dict()\n",
    "for reachid in reachids_oh:    \n",
    "    idx = np.where(results['reaches']['reach_id'][:] == np.int64(reachid) )\n",
    "    data = np.ma.getdata(results[\"momma\"][\"Q\"][idx])[0]\n",
    "    if data.max() > 0:\n",
    "        Qbar_momma[reachid] = 1\n",
    "    else:\n",
    "        Qbar_momma[reachid] = 0\n",
    "        \n",
    "#sad\n",
    "Qbar_sad=dict()\n",
    "for reachid in reachids_oh:    \n",
    "    idx = np.where(results['reaches']['reach_id'][:] == np.int64(reachid) )\n",
    "    data = np.ma.getdata(results[\"sad\"][\"Qa\"][idx])[0]\n",
    "    if data.max() > 0:\n",
    "        Qbar_sad[reachid] = 1\n",
    "    else:\n",
    "        Qbar_sad[reachid] = 0\n",
    "        \n",
    "        \n",
    "#sic4dvar\n",
    "Qbar_sic=dict()\n",
    "for reachid in reachids_oh:    \n",
    "    idx = np.where(results['reaches']['reach_id'][:] == np.int64(reachid) )\n",
    "    data = np.ma.getdata(results[\"sic4dvar\"][\"Q_da\"][idx])[0]\n",
    "    #print(data)\n",
    "    if data.max() > 0:\n",
    "        Qbar_sic[reachid] = 1\n",
    "    else:\n",
    "        Qbar_sic[reachid] = 0"
   ]
  },
  {
   "cell_type": "code",
   "execution_count": null,
   "id": "e988d0c7-2bfa-4f52-b4f9-70c8193a17c4",
   "metadata": {},
   "outputs": [],
   "source": [
    "# hidvi_ids = [int(x) for x in list(Qbar_hi.keys())]\n",
    "# print(len(rch[rch.reach_id.isin(hidvi_ids)]))\n",
    "# rch[rch.reach_id.isin(hidvi_ids)].plot()"
   ]
  },
  {
   "cell_type": "code",
   "execution_count": null,
   "id": "b0f1ced5-4199-4110-ae7c-a5c4550e4426",
   "metadata": {},
   "outputs": [],
   "source": [
    "# add integrated MetroMan discharge to the rmap object\n",
    "rmap._dataset['HiVDI']=-1.\n",
    "\n",
    "for reachid in reachids_oh:\n",
    "    if not np.isnan(Qbar_hi[str(reachid)]):\n",
    "        rmap._dataset.loc[rmap._dataset['reach_id'].astype(str)==str(reachid),['HiVDI']]=Qbar_hi[str(reachid)]\n",
    "    \n",
    "\n",
    "rmap._json_dataset = rmap._dataset.to_json()    \n",
    "hi_map = rmap.get_centerlines_map(varname=\"HiVDI\",varlimits=[0,1],cmap=['r','b'])\n",
    "hi_map"
   ]
  },
  {
   "cell_type": "code",
   "execution_count": null,
   "id": "01cf2926-dcaa-4037-8af2-3d4e511fa974",
   "metadata": {},
   "outputs": [],
   "source": [
    "# add integrated MetroMan discharge to the rmap object\n",
    "rmap._dataset['Momma']=-1.\n",
    "\n",
    "for reachid in reachids_oh:\n",
    "    if not np.isnan(Qbar_momma[str(reachid)]):\n",
    "        rmap._dataset.loc[rmap._dataset['reach_id'].astype(str)==str(reachid),['Momma']]=Qbar_momma[str(reachid)]\n",
    "rmap._json_dataset = rmap._dataset.to_json()\n",
    "momma_map = rmap.get_centerlines_map(varname=\"Momma\",varlimits=[0,1],cmap=['r','b'])\n",
    "\n",
    "momma_map"
   ]
  },
  {
   "cell_type": "code",
   "execution_count": null,
   "id": "6b93f786-103c-434a-89e3-48ab3d688231",
   "metadata": {},
   "outputs": [],
   "source": [
    "momma_df = pd.Series(Qbar_momma)\n",
    "print(len(momma_df[momma_df>0]))"
   ]
  },
  {
   "cell_type": "code",
   "execution_count": null,
   "id": "95411475-0409-4a8c-b52c-b0465cf30c2c",
   "metadata": {},
   "outputs": [],
   "source": [
    "# add integrated MetroMan discharge to the rmap object\n",
    "rmap._dataset['Sad']=-1.\n",
    "\n",
    "for reachid in reachids_oh:\n",
    "    if not np.isnan(Qbar_sad[str(reachid)]):\n",
    "        rmap._dataset.loc[rmap._dataset['reach_id'].astype(str)==str(reachid),['Sad']]=Qbar_sad[str(reachid)]\n",
    "rmap._json_dataset = rmap._dataset.to_json()\n",
    "sad_map = rmap.get_centerlines_map(varname=\"Sad\",varlimits=[0,1],cmap=[\"r\", \"b\"])\n",
    "sad_df = pd.Series(Qbar_sad)\n",
    "print(len(sad_df[sad_df>0]))\n",
    "sad_map"
   ]
  },
  {
   "cell_type": "code",
   "execution_count": null,
   "id": "75c8187c-cd79-4f46-8314-dd55dd118950",
   "metadata": {},
   "outputs": [],
   "source": [
    "# add integrated MetroMan discharge to the rmap object\n",
    "rmap._dataset['Sic']=-1.\n",
    "\n",
    "for reachid in reachids_oh:\n",
    "    if not np.isnan(Qbar_sic[str(reachid)]):\n",
    "        rmap._dataset.loc[rmap._dataset['reach_id'].astype(str)==str(reachid),['Sic']]=Qbar_sic[str(reachid)]\n",
    "rmap._json_dataset = rmap._dataset.to_json()\n",
    "sic_map = rmap.get_centerlines_map(varname=\"Sic\",varlimits=[0,1],cmap=[\"r\", \"b\"])\n",
    "sic_df = pd.Series(Qbar_sic)\n",
    "print(len(sic_df[sic_df>0]))\n",
    "sic_map"
   ]
  },
  {
   "cell_type": "code",
   "execution_count": null,
   "id": "8c83f5c5-4d4e-4bf7-b6e2-f9391e8f1681",
   "metadata": {},
   "outputs": [],
   "source": []
  },
  {
   "cell_type": "code",
   "execution_count": null,
   "id": "64485db2-6362-46d6-8891-8a051083dedf",
   "metadata": {},
   "outputs": [],
   "source": [
    "#all\n",
    "Qbars=dict()\n",
    "algo = {}\n",
    "for reachid in reachids_oh:    \n",
    "    idx = np.where(results['reaches']['reach_id'][:] == np.int64(reachid) )\n",
    "    counter = []\n",
    "    temp_algo = \"\"\n",
    "    if np.ma.getdata(results[\"hivdi\"][\"Q\"][idx])[0].max() > 0:\n",
    "        counter.append(1)\n",
    "        temp_algo = f\"hivdi\"\n",
    "    if np.ma.getdata(results[\"momma\"][\"Q\"][idx])[0].max() > 0:\n",
    "        counter.append(1)\n",
    "        temp_algo = f\"{temp_algo}, momma\"\n",
    "    if np.ma.getdata(results[\"sad\"][\"Qa\"][idx])[0].max() > 0:\n",
    "        counter.append(1)\n",
    "        temp_algo = f\"{temp_algo}, sad\"\n",
    "    if np.ma.getdata(results[\"sic4dvar\"][\"Q_da\"][idx])[0].max() > 0:\n",
    "        counter.append(1)\n",
    "        temp_algo = f\"{temp_algo}, sic4dvar\"\n",
    "        \n",
    "    Qbars[reachid] = sum(counter)\n",
    "    algo[reachid] = temp_algo\n",
    "\n",
    "#SHOW\n",
    "df = pd.Series(Qbars)\n",
    "df = df[df>1]\n",
    "df.max()\n",
    "#Qbars "
   ]
  },
  {
   "cell_type": "code",
   "execution_count": null,
   "id": "a0744d1a-92ad-43f4-b7b7-80ffc6918f49",
   "metadata": {},
   "outputs": [],
   "source": [
    "from matplotlib import cm\n",
    "import numpy as np\n",
    "import random\n",
    "\n",
    "class ColormapStyleFunction:\n",
    "    \"\"\"Object to handle colormap style functions\n",
    "    \"\"\"\n",
    "    \n",
    "    def __init__(self, cmap, attribute,randomcolors=False):\n",
    "        self._cmap = cmap\n",
    "        self._attribute = attribute\n",
    "        self._randomcolors = randomcolors\n",
    "        \n",
    "    def __call__(self, x):\n",
    "        if self._randomcolors:\n",
    "            #hexcolor = '#ff0000'\n",
    "            hexcolor=\"#\"+''.join([random.choice('0123456789ABCDEF') for i in range(6) ] )\n",
    "        else:\n",
    "            hexcolor = self._cmap(x[\"properties\"][self._attribute])\n",
    "\n",
    "        return {'color': hexcolor, 'weight' : 3}\n",
    "    \n",
    "def get_centerlines_map(self, varname=None, cmap=None, tooltip_attributes=None, add_to_map=None, varlimits=[None, None]):\n",
    "        \"\"\"Build a map width reaches as centerlines colored with values of a variable\n",
    "        \n",
    "        Parameters\n",
    "        ----------\n",
    "        varname : str\n",
    "            Name of the variable used for coloring\n",
    "        width_attribute : str\n",
    "            Name of the variable for the width\n",
    "        cmap : branca.Colormap\n",
    "            Colormap used for coloring\n",
    "        tooltip_attributes : list or None\n",
    "            List of variables to display using ToolTip\n",
    "        \"\"\"\n",
    "        \n",
    "        # Set default values for unset parameters\n",
    "        if cmap is None and varname is not None:\n",
    "            if varlimits[0] is None:\n",
    "                varlimits[0]= self._dataset[varname].min()\n",
    "            if varlimits[1] is None:\n",
    "                varlimits[1]= self._dataset[varname].max()\n",
    "\n",
    "            #cmap = branca.colormap.linear.YlOrRd_09.scale(self._dataset[varname].min(),\n",
    "            #                                              self._dataset[varname].max())\n",
    "            cmap = branca.colormap.linear.YlOrRd_09.scale(varlimits[0],\n",
    "                                                          varlimits[1])\n",
    "            #cmap = branca.colormap.ColorMap(vmin=0.0, vmax=1.0, caption='', max_labels=10)\n",
    "            #cmap = branca.colormap.LinearColormap(['blue', 'yellow', 'red']).scale(varlimits[0], varlimits[1])\n",
    "            #cmap = branca.colormap.StepColormap([\"r\", \"y\", \"g\", \"c\", \"b\", \"m\"])\n",
    "            \n",
    "        elif isinstance(cmap, list):\n",
    "            if varlimits[0] is None:\n",
    "                varlimits[0]= self._dataset[varname].min()\n",
    "            if varlimits[1] is None:\n",
    "                varlimits[1]= self._dataset[varname].max()\n",
    "\n",
    "            cmap = branca.colormap.LinearColormap(cmap).scale(varlimits[0],\n",
    "                                                              varlimits[1])\n",
    "            #cmap = branca.colormap.StepColormap([\"r\", \"y\", \"g\", \"c\", \"b\", \"m\"])\n",
    "\n",
    "        if tooltip_attributes is None:\n",
    "            if varname is None:\n",
    "                tooltip_attributes = [\"reach_id\"]\n",
    "            else:\n",
    "                tooltip_attributes = [\"reach_id\", varname]\n",
    "\n",
    "        if add_to_map is None:\n",
    "        \n",
    "            # Retrieve bounding box and center\n",
    "            bounds = self._dataset.geometry.total_bounds.tolist()\n",
    "            center = (0.5 * (bounds[1] + bounds[3]), 0.5 * (bounds[0] + bounds[2]))\n",
    "            \n",
    "            # Create map\n",
    "            new_map = folium.Map(location=center, tiles=self._tiles, zoom_start=6)\n",
    "            parent_map = new_map\n",
    "            \n",
    "        else:\n",
    "            \n",
    "            parent_map = add_to_map\n",
    "                       \n",
    "        # Add layer\n",
    "        tooltip = folium.GeoJsonTooltip(fields=tooltip_attributes)\n",
    "\n",
    "        if varname is None:\n",
    "            style_function = ColormapStyleFunction(cmap, varname, randomcolors=True)\n",
    "        else:\n",
    "            style_function = ColormapStyleFunction(cmap, varname)\n",
    "\n",
    "        folium.GeoJson(self._json_dataset,\n",
    "                       style_function=style_function,\n",
    "                       tooltip=tooltip,\n",
    "                       name=\"Test\").add_to(parent_map)\n",
    "\n",
    "        if varname is not None:\n",
    "            \n",
    "            # Add colorbar\n",
    "            colormap = cmap.to_step(n=4)\n",
    "            colormap.caption = varname\n",
    "            colormap.add_to(parent_map)\n",
    "\n",
    "        #if add_to_map is None:\n",
    "            #parent_map.fit_bounds(self._dataset.total_bounds.tolist())\n",
    "        \n",
    "        if add_to_map is None:\n",
    "            return new_map\n",
    "        \n",
    "rmap._dataset['all']=-1.\n",
    "\n",
    "for reachid in reachids_oh:\n",
    "    if not np.isnan(Qbars[str(reachid)]):\n",
    "        rmap._dataset.loc[rmap._dataset['reach_id'].astype(str)==str(reachid),['all']]=Qbars[str(reachid)]\n",
    "    #if not algo[str(reachid)]:\n",
    "        rmap._dataset.loc[rmap._dataset['reach_id'].astype(str)==str(reachid),['algo']]=algo[str(reachid)]\n",
    "rmap._dataset['wse'] = np.round(rmap._dataset['wse'],2)\n",
    "rmap._json_dataset = rmap._dataset.to_json()\n",
    "all_map = rmap.get_centerlines_map(varname=\"all\",varlimits=[0,4],cmap=[\"red\",\"orange\", \"yellow\", \"green\", \"blue\"]\n",
    "                                   ,tooltip_attributes=['reach_id','all','algo','wse','width','river_name']) \n",
    "all_map"
   ]
  },
  {
   "cell_type": "markdown",
   "id": "28d1c859-e8a1-4fa9-a3ee-c852f3a75420",
   "metadata": {},
   "source": [
    "# Example 2\n",
    "### Consensus Q\n",
    "#### NOT adapted yet to SOS"
   ]
  },
  {
   "cell_type": "code",
   "execution_count": null,
   "id": "0c8d17c8-ebb3-4d22-9769-bc364553e049",
   "metadata": {},
   "outputs": [],
   "source": [
    "#Simple Q clean function\n",
    "#Simple proc for consensus (no outlier)\n",
    "\n",
    "def preproc_Q_simple(df):\n",
    "    df = df.copy()\n",
    "    df = df[(df['algo_Q'] < 1000000)]\n",
    "    df.loc[:, 'reach_id']= pd.to_numeric(df.reach_id)\n",
    "    df['algo_Q_cons'] = df.groupby(['reach_id', 'datetime'])['algo_Q'].transform('median')\n",
    "    dfcopy =df.dropna(subset= 'algo_Q_cons').copy()\n",
    "\n",
    "    dfcopy['datetime'] = pd.to_datetime(dfcopy['datetime'])\n",
    "\n",
    "    return dfcopy"
   ]
  },
  {
   "cell_type": "code",
   "execution_count": null,
   "id": "8b4748bd-b22c-41b7-a4f7-c8e56d511bfa",
   "metadata": {},
   "outputs": [],
   "source": [
    "#SWORD reaches and geometries\n",
    "#Example NA basin 74\n",
    "sword_path = \"/nas/cee-water/cjgleason/SWOTdata/SWORDv16/shp/NA/na_sword_reaches_hb74_v16.shp\"\n",
    "sword = gpd.read_file(sword_path)\n",
    "\n",
    "#SWOT data (FS orbit reaches in NA)\n",
    "#Could use this instead of sword\n",
    "data_path = '/nas/cee-water/cjgleason/ellie/SWOT/orbitMS/tmp/SWOTdata_NA_clean.shp'\n",
    "na_swot_sample = gpd.read_file(data_path)\n",
    "na_swot_sample['datetime'] = pd.to_datetime(pd.to_datetime(na_swot_sample['time_str']).dt.strftime('%Y-%m-%d'))\n",
    "\n",
    "\n",
    "#Q data\n",
    "\n",
    "#Add in Q\n",
    "q_raw = pd.read_csv('/nas/cee-water/cjgleason/ellie/SWOT/orbitMS/data/confluenceOutput/q_end2end.csv')\n",
    "\n",
    "q_all = preproc_Q_simple(df=q_raw)\n",
    "q_all"
   ]
  },
  {
   "cell_type": "code",
   "execution_count": null,
   "id": "ae81d5a9-18e3-4ae6-b3eb-dc604a257461",
   "metadata": {},
   "outputs": [],
   "source": [
    "#Define area of interest by finding a lit of reach ids\n",
    "\n",
    "reachids=list(sword['reach_id'])\n",
    "\n",
    "reachids_str=[]\n",
    "reachids_int=[]\n",
    "\n",
    "for reachid in reachids:\n",
    "    if str(reachid)[0:2]=='74': #filtering example for a basin\n",
    "        reachids_str.append(str(reachid))\n",
    "        reachids_int.append(int(reachid))"
   ]
  },
  {
   "cell_type": "code",
   "execution_count": null,
   "id": "561eba81-8e74-404c-a6a4-b81be0d7345e",
   "metadata": {},
   "outputs": [],
   "source": [
    "# create swotdawgviz map with just the reaches in RL mapped\n",
    "swot_reaches = sdvio.SwordShapefile(sword_path,reachids_int)\n",
    "rmap = sdvm.ReachesMap(swot_reaches.dataset)\n",
    "ridmap = rmap.get_centerlines_map()\n",
    "ridmap"
   ]
  },
  {
   "cell_type": "markdown",
   "id": "6c8e5f12-8d31-43e1-9bde-59841d79ac63",
   "metadata": {},
   "source": [
    "## Map Q"
   ]
  },
  {
   "cell_type": "code",
   "execution_count": null,
   "id": "ece98585-be31-4b08-9c06-c995541a0084",
   "metadata": {},
   "outputs": [],
   "source": [
    "swot_q = q_all.merge(sword[['reach_id', 'geometry']], how='left', on=['reach_id']).dropna(subset = ['geometry'])\n"
   ]
  },
  {
   "cell_type": "code",
   "execution_count": null,
   "id": "c87901ef-8e09-4755-bc24-abd1f4b1fcdb",
   "metadata": {},
   "outputs": [],
   "source": [
    "cons_Q_df = swot_q[swot_q.datetime == '2024-06-16'].drop_duplicates(['reach_id', 'algo_Q_cons'])\n",
    "cons_Q_dict = dict(zip(cons_Q_df['reach_id'], cons_Q_df['algo_Q_cons']))\n"
   ]
  },
  {
   "cell_type": "code",
   "execution_count": null,
   "id": "d8eeb08e-1af9-411e-b5f5-887782525f30",
   "metadata": {},
   "outputs": [],
   "source": [
    "# add integrated MetroMan discharge to the rmap object\n",
    "rmap._dataset['algo_Q_cons']=-1.\n",
    "\n",
    "for reachid in list(cons_Q_dict.keys()):\n",
    "    if not np.isnan(cons_Q_dict[int(reachid)]):\n",
    "        rmap._dataset.loc[rmap._dataset['reach_id'].astype(int)==int(reachid),['algo_Q_cons']]=cons_Q_dict[int(reachid)]\n",
    "    \n",
    "rmap._dataset = rmap._dataset[rmap._dataset['algo_Q_cons'] > 0]\n",
    "rmap._json_dataset = rmap._dataset.to_json()    \n",
    "cons_Q_map = rmap.get_centerlines_map(varname=\"algo_Q_cons\",varlimits=[0,round(max(cons_Q_dict.values()))],cmap=['r','b'])\n",
    "cons_Q_map"
   ]
  },
  {
   "cell_type": "code",
   "execution_count": null,
   "id": "c949d744-07ac-4242-bc3f-46a57ae93b5b",
   "metadata": {},
   "outputs": [],
   "source": []
  },
  {
   "cell_type": "code",
   "execution_count": null,
   "id": "57e1c85e-8204-4e70-8016-235d102622a9",
   "metadata": {},
   "outputs": [],
   "source": []
  },
  {
   "cell_type": "code",
   "execution_count": null,
   "id": "4ff4ced5-2033-45c1-b0a6-6b08ffbaf9b1",
   "metadata": {},
   "outputs": [],
   "source": []
  }
 ],
 "metadata": {
  "kernelspec": {
   "display_name": "Python [conda env:.conda-swotEF]",
   "language": "python",
   "name": "conda-env-.conda-swotEF-py"
  },
  "language_info": {
   "codemirror_mode": {
    "name": "ipython",
    "version": 3
   },
   "file_extension": ".py",
   "mimetype": "text/x-python",
   "name": "python",
   "nbconvert_exporter": "python",
   "pygments_lexer": "ipython3",
   "version": "3.12.2"
  }
 },
 "nbformat": 4,
 "nbformat_minor": 5
}
